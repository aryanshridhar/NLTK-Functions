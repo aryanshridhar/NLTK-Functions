{
 "cells": [
  {
   "cell_type": "code",
   "execution_count": 76,
   "metadata": {},
   "outputs": [],
   "source": [
    "import nltk\n",
    "from gensim.models import Word2Vec\n",
    "from nltk.corpus import stopwords\n",
    "from nltk.stem import WordNetLemmatizer\n",
    "from nltk.stem import PorterStemmer"
   ]
  },
  {
   "cell_type": "markdown",
   "metadata": {},
   "source": [
    "## Paragraph"
   ]
  },
  {
   "cell_type": "code",
   "execution_count": 77,
   "metadata": {},
   "outputs": [],
   "source": [
    "paragraph = \"\"\"Python is an interpreted, high-level, general-purpose programming language. \n",
    "Created by Guido van Rossum and first released in 1991, Python's design philosophy emphasizes code readability \n",
    "with its notable use of significant whitespace. Its language constructs and object-oriented approach aim to \n",
    "help programmers write clear, logical code for small and large-scale projects\n",
    "Python is dynamically typed and garbage-collected. It supports multiple programming paradigms, \n",
    "including structured (particularly, procedural), object-oriented, and functional programming. \n",
    "Python is often described as a \"batteries included\" language due to its comprehensive standard library\n",
    "Python was conceived in the late 1980s as a successor to the ABC language. Python 2.0, released in 2000, \n",
    "introduced features like list comprehensions and a garbage collection system capable of \n",
    "collecting reference cycles. Python 3.0, released in 2008, was a major revision of the \n",
    "language that is not completely backward-compatible, and much Python 2 code does not run unmodified on Python 3.\n",
    "The Python 2 language was officially discontinued in 2020 (first planned for 2015), and \"Python 2.7.18 is the \n",
    "last Python 2.7 release and therefore the last Python 2 release.\"No more security patches or other \n",
    "improvements will be released for it.With Python 2's end-of-life, only Python and later are supported.\n",
    "Python interpreters are available for many operating systems. A global community of programmers develops and \n",
    "maintains CPython, an open source[34] reference implementation. A non-profit organization, the Python Software \n",
    "Foundation, manages and directs resources for Python and CPython development.\"\"\""
   ]
  },
  {
   "cell_type": "markdown",
   "metadata": {},
   "source": [
    "## Pre-Processing The Data"
   ]
  },
  {
   "cell_type": "markdown",
   "metadata": {},
   "source": [
    "#### Removing Numbers / Question Marks etc"
   ]
  },
  {
   "cell_type": "code",
   "execution_count": 78,
   "metadata": {},
   "outputs": [],
   "source": [
    "text = re.sub(r'\\[[0-9]*\\]',' ',paragraph)\n",
    "text = re.sub(r'\\s+',' ',text)\n",
    "text = text.lower()\n",
    "text = re.sub(r'\\d',' ',text)\n",
    "text = re.sub(r'\\s+',' ',text)"
   ]
  },
  {
   "cell_type": "markdown",
   "metadata": {},
   "source": [
    "#### Tokenizing Into Sentences"
   ]
  },
  {
   "cell_type": "code",
   "execution_count": 79,
   "metadata": {},
   "outputs": [
    {
     "data": {
      "text/plain": [
       "17"
      ]
     },
     "execution_count": 79,
     "metadata": {},
     "output_type": "execute_result"
    }
   ],
   "source": [
    "sentences = nltk.sent_tokenize(text)\n",
    "len(sentences)"
   ]
  },
  {
   "cell_type": "markdown",
   "metadata": {},
   "source": [
    "#### Removing Stop Words And Applying Lemmatization"
   ]
  },
  {
   "cell_type": "code",
   "execution_count": 80,
   "metadata": {},
   "outputs": [],
   "source": [
    "lemmatizer = WordNetLemmatizer()"
   ]
  },
  {
   "cell_type": "code",
   "execution_count": 81,
   "metadata": {},
   "outputs": [],
   "source": [
    "new_para = []\n",
    "for i in sentences:\n",
    "    process_list = [lemmatizer.lemmatize(j) for j in nltk.word_tokenize(i) if j not in stopwords.words('english')]\n",
    "    new_para.append(process_list) \n",
    "\n",
    "# new_para = [ [....],[.....],[.....] ... ]"
   ]
  },
  {
   "cell_type": "markdown",
   "metadata": {},
   "source": [
    "## Word2Vec"
   ]
  },
  {
   "cell_type": "markdown",
   "metadata": {},
   "source": [
    "#### Creating Model"
   ]
  },
  {
   "cell_type": "code",
   "execution_count": 86,
   "metadata": {},
   "outputs": [],
   "source": [
    "model = Word2Vec(new_para , min_count = 1) # min count : if any word is present less than 1 time , remove it . \n",
    "                                           # Since , my data is very small , hence taking min_count as 1\n",
    "                                           # new_para must be of [[..],[..],[..]],[...], ]"
   ]
  },
  {
   "cell_type": "code",
   "execution_count": 87,
   "metadata": {},
   "outputs": [
    {
     "data": {
      "text/plain": [
       "<gensim.models.word2vec.Word2Vec at 0x7ff35e69d1d0>"
      ]
     },
     "execution_count": 87,
     "metadata": {},
     "output_type": "execute_result"
    }
   ],
   "source": [
    "model"
   ]
  },
  {
   "cell_type": "markdown",
   "metadata": {},
   "source": [
    "#### Listing All Words Taken By Model"
   ]
  },
  {
   "cell_type": "code",
   "execution_count": 92,
   "metadata": {},
   "outputs": [],
   "source": [
    "words = model.wv.vocab"
   ]
  },
  {
   "cell_type": "code",
   "execution_count": 93,
   "metadata": {},
   "outputs": [
    {
     "data": {
      "text/plain": [
       "{'python': <gensim.models.keyedvectors.Vocab at 0x7ff35e6957d0>,\n",
       " 'interpreted': <gensim.models.keyedvectors.Vocab at 0x7ff35e695950>,\n",
       " ',': <gensim.models.keyedvectors.Vocab at 0x7ff35e695c10>,\n",
       " 'high-level': <gensim.models.keyedvectors.Vocab at 0x7ff35e6956d0>,\n",
       " 'general-purpose': <gensim.models.keyedvectors.Vocab at 0x7ff35e6711d0>,\n",
       " 'programming': <gensim.models.keyedvectors.Vocab at 0x7ff35e69d310>,\n",
       " 'language': <gensim.models.keyedvectors.Vocab at 0x7ff35e69d410>,\n",
       " '.': <gensim.models.keyedvectors.Vocab at 0x7ff35e69d450>,\n",
       " 'created': <gensim.models.keyedvectors.Vocab at 0x7ff35e695c50>,\n",
       " 'guido': <gensim.models.keyedvectors.Vocab at 0x7ff35e69d350>,\n",
       " 'van': <gensim.models.keyedvectors.Vocab at 0x7ff35e69d490>,\n",
       " 'rossum': <gensim.models.keyedvectors.Vocab at 0x7ff35e69d4d0>,\n",
       " 'first': <gensim.models.keyedvectors.Vocab at 0x7ff35e69d510>,\n",
       " 'released': <gensim.models.keyedvectors.Vocab at 0x7ff35e69d550>,\n",
       " \"'s\": <gensim.models.keyedvectors.Vocab at 0x7ff35e69d590>,\n",
       " 'design': <gensim.models.keyedvectors.Vocab at 0x7ff35e69d5d0>,\n",
       " 'philosophy': <gensim.models.keyedvectors.Vocab at 0x7ff35e69d610>,\n",
       " 'emphasizes': <gensim.models.keyedvectors.Vocab at 0x7ff35e69d650>,\n",
       " 'code': <gensim.models.keyedvectors.Vocab at 0x7ff35e69d690>,\n",
       " 'readability': <gensim.models.keyedvectors.Vocab at 0x7ff35e69d6d0>,\n",
       " 'notable': <gensim.models.keyedvectors.Vocab at 0x7ff35e69d710>,\n",
       " 'use': <gensim.models.keyedvectors.Vocab at 0x7ff35e69d750>,\n",
       " 'significant': <gensim.models.keyedvectors.Vocab at 0x7ff35e69d790>,\n",
       " 'whitespace': <gensim.models.keyedvectors.Vocab at 0x7ff35e69d7d0>,\n",
       " 'construct': <gensim.models.keyedvectors.Vocab at 0x7ff35e69d810>,\n",
       " 'object-oriented': <gensim.models.keyedvectors.Vocab at 0x7ff35e69d850>,\n",
       " 'approach': <gensim.models.keyedvectors.Vocab at 0x7ff35e69d890>,\n",
       " 'aim': <gensim.models.keyedvectors.Vocab at 0x7ff35e69d8d0>,\n",
       " 'help': <gensim.models.keyedvectors.Vocab at 0x7ff35e69d910>,\n",
       " 'programmer': <gensim.models.keyedvectors.Vocab at 0x7ff35e69d950>,\n",
       " 'write': <gensim.models.keyedvectors.Vocab at 0x7ff35e69d990>,\n",
       " 'clear': <gensim.models.keyedvectors.Vocab at 0x7ff35e69d9d0>,\n",
       " 'logical': <gensim.models.keyedvectors.Vocab at 0x7ff35e69da10>,\n",
       " 'small': <gensim.models.keyedvectors.Vocab at 0x7ff35e69da50>,\n",
       " 'large-scale': <gensim.models.keyedvectors.Vocab at 0x7ff35e69da90>,\n",
       " 'project': <gensim.models.keyedvectors.Vocab at 0x7ff35e69dad0>,\n",
       " 'dynamically': <gensim.models.keyedvectors.Vocab at 0x7ff35e69db10>,\n",
       " 'typed': <gensim.models.keyedvectors.Vocab at 0x7ff35e69db50>,\n",
       " 'garbage-collected': <gensim.models.keyedvectors.Vocab at 0x7ff35e69db90>,\n",
       " 'support': <gensim.models.keyedvectors.Vocab at 0x7ff35e69dbd0>,\n",
       " 'multiple': <gensim.models.keyedvectors.Vocab at 0x7ff35e69dc10>,\n",
       " 'paradigm': <gensim.models.keyedvectors.Vocab at 0x7ff35e69dc50>,\n",
       " 'including': <gensim.models.keyedvectors.Vocab at 0x7ff35e69dc90>,\n",
       " 'structured': <gensim.models.keyedvectors.Vocab at 0x7ff35e69dcd0>,\n",
       " '(': <gensim.models.keyedvectors.Vocab at 0x7ff35e69dd10>,\n",
       " 'particularly': <gensim.models.keyedvectors.Vocab at 0x7ff35e69dd50>,\n",
       " 'procedural': <gensim.models.keyedvectors.Vocab at 0x7ff35e69dd90>,\n",
       " ')': <gensim.models.keyedvectors.Vocab at 0x7ff35e69ddd0>,\n",
       " 'functional': <gensim.models.keyedvectors.Vocab at 0x7ff35e69de10>,\n",
       " 'often': <gensim.models.keyedvectors.Vocab at 0x7ff35e69de50>,\n",
       " 'described': <gensim.models.keyedvectors.Vocab at 0x7ff35e69de90>,\n",
       " '``': <gensim.models.keyedvectors.Vocab at 0x7ff35e69ded0>,\n",
       " 'battery': <gensim.models.keyedvectors.Vocab at 0x7ff35e69df10>,\n",
       " 'included': <gensim.models.keyedvectors.Vocab at 0x7ff35e69df50>,\n",
       " \"''\": <gensim.models.keyedvectors.Vocab at 0x7ff35e69df90>,\n",
       " 'due': <gensim.models.keyedvectors.Vocab at 0x7ff35e69dfd0>,\n",
       " 'comprehensive': <gensim.models.keyedvectors.Vocab at 0x7ff35e69f050>,\n",
       " 'standard': <gensim.models.keyedvectors.Vocab at 0x7ff35e69f090>,\n",
       " 'library': <gensim.models.keyedvectors.Vocab at 0x7ff35e69f0d0>,\n",
       " 'conceived': <gensim.models.keyedvectors.Vocab at 0x7ff35e69f110>,\n",
       " 'late': <gensim.models.keyedvectors.Vocab at 0x7ff35e69f150>,\n",
       " 'successor': <gensim.models.keyedvectors.Vocab at 0x7ff35e69f190>,\n",
       " 'abc': <gensim.models.keyedvectors.Vocab at 0x7ff35e69f1d0>,\n",
       " 'introduced': <gensim.models.keyedvectors.Vocab at 0x7ff35e69f210>,\n",
       " 'feature': <gensim.models.keyedvectors.Vocab at 0x7ff35e69f250>,\n",
       " 'like': <gensim.models.keyedvectors.Vocab at 0x7ff35e69f290>,\n",
       " 'list': <gensim.models.keyedvectors.Vocab at 0x7ff35e69f2d0>,\n",
       " 'comprehension': <gensim.models.keyedvectors.Vocab at 0x7ff35e69f310>,\n",
       " 'garbage': <gensim.models.keyedvectors.Vocab at 0x7ff35e69f350>,\n",
       " 'collection': <gensim.models.keyedvectors.Vocab at 0x7ff35e69f390>,\n",
       " 'system': <gensim.models.keyedvectors.Vocab at 0x7ff35e69f3d0>,\n",
       " 'capable': <gensim.models.keyedvectors.Vocab at 0x7ff35e69f410>,\n",
       " 'collecting': <gensim.models.keyedvectors.Vocab at 0x7ff35e69f450>,\n",
       " 'reference': <gensim.models.keyedvectors.Vocab at 0x7ff35e69f490>,\n",
       " 'cycle': <gensim.models.keyedvectors.Vocab at 0x7ff35e69f4d0>,\n",
       " 'major': <gensim.models.keyedvectors.Vocab at 0x7ff35e69f510>,\n",
       " 'revision': <gensim.models.keyedvectors.Vocab at 0x7ff35e69f550>,\n",
       " 'completely': <gensim.models.keyedvectors.Vocab at 0x7ff35e69f590>,\n",
       " 'backward-compatible': <gensim.models.keyedvectors.Vocab at 0x7ff35e69f5d0>,\n",
       " 'much': <gensim.models.keyedvectors.Vocab at 0x7ff35e69f610>,\n",
       " 'run': <gensim.models.keyedvectors.Vocab at 0x7ff35e69f650>,\n",
       " 'unmodified': <gensim.models.keyedvectors.Vocab at 0x7ff35e69f690>,\n",
       " 'officially': <gensim.models.keyedvectors.Vocab at 0x7ff35e69f6d0>,\n",
       " 'discontinued': <gensim.models.keyedvectors.Vocab at 0x7ff35e69f710>,\n",
       " 'planned': <gensim.models.keyedvectors.Vocab at 0x7ff35e69f750>,\n",
       " 'last': <gensim.models.keyedvectors.Vocab at 0x7ff35e69f790>,\n",
       " 'release': <gensim.models.keyedvectors.Vocab at 0x7ff35e69f7d0>,\n",
       " 'therefore': <gensim.models.keyedvectors.Vocab at 0x7ff35e69f810>,\n",
       " 'security': <gensim.models.keyedvectors.Vocab at 0x7ff35e69f850>,\n",
       " 'patch': <gensim.models.keyedvectors.Vocab at 0x7ff35e69f890>,\n",
       " 'improvement': <gensim.models.keyedvectors.Vocab at 0x7ff35e69f8d0>,\n",
       " 'it.with': <gensim.models.keyedvectors.Vocab at 0x7ff35e69f910>,\n",
       " 'end-of-life': <gensim.models.keyedvectors.Vocab at 0x7ff35e69f950>,\n",
       " 'later': <gensim.models.keyedvectors.Vocab at 0x7ff35e69f990>,\n",
       " 'supported': <gensim.models.keyedvectors.Vocab at 0x7ff35e69f9d0>,\n",
       " 'interpreter': <gensim.models.keyedvectors.Vocab at 0x7ff35e69fa10>,\n",
       " 'available': <gensim.models.keyedvectors.Vocab at 0x7ff35e69fa50>,\n",
       " 'many': <gensim.models.keyedvectors.Vocab at 0x7ff35e69fa90>,\n",
       " 'operating': <gensim.models.keyedvectors.Vocab at 0x7ff35e69fad0>,\n",
       " 'global': <gensim.models.keyedvectors.Vocab at 0x7ff35e69fb10>,\n",
       " 'community': <gensim.models.keyedvectors.Vocab at 0x7ff35e69fb50>,\n",
       " 'develops': <gensim.models.keyedvectors.Vocab at 0x7ff35e69fb90>,\n",
       " 'maintains': <gensim.models.keyedvectors.Vocab at 0x7ff35e69fbd0>,\n",
       " 'cpython': <gensim.models.keyedvectors.Vocab at 0x7ff35e69fc10>,\n",
       " 'open': <gensim.models.keyedvectors.Vocab at 0x7ff35e69fc50>,\n",
       " 'source': <gensim.models.keyedvectors.Vocab at 0x7ff35e69fc90>,\n",
       " 'implementation': <gensim.models.keyedvectors.Vocab at 0x7ff35e69fcd0>,\n",
       " 'non-profit': <gensim.models.keyedvectors.Vocab at 0x7ff35e69fd10>,\n",
       " 'organization': <gensim.models.keyedvectors.Vocab at 0x7ff35e69fd50>,\n",
       " 'software': <gensim.models.keyedvectors.Vocab at 0x7ff35e69fd90>,\n",
       " 'foundation': <gensim.models.keyedvectors.Vocab at 0x7ff35e69fdd0>,\n",
       " 'manages': <gensim.models.keyedvectors.Vocab at 0x7ff35e69fe10>,\n",
       " 'directs': <gensim.models.keyedvectors.Vocab at 0x7ff35e69fe50>,\n",
       " 'resource': <gensim.models.keyedvectors.Vocab at 0x7ff35e69fe90>,\n",
       " 'development': <gensim.models.keyedvectors.Vocab at 0x7ff35e69fed0>}"
      ]
     },
     "execution_count": 93,
     "metadata": {},
     "output_type": "execute_result"
    }
   ],
   "source": [
    "words"
   ]
  },
  {
   "cell_type": "markdown",
   "metadata": {},
   "source": [
    "#### Getting Vector Of Any Word"
   ]
  },
  {
   "cell_type": "code",
   "execution_count": 94,
   "metadata": {},
   "outputs": [],
   "source": [
    "vector = model.wv['programming']"
   ]
  },
  {
   "cell_type": "code",
   "execution_count": 95,
   "metadata": {},
   "outputs": [
    {
     "data": {
      "text/plain": [
       "array([ 0.00237744,  0.00464998, -0.00496389, -0.00418612,  0.0028864 ,\n",
       "       -0.0013614 , -0.00193879,  0.00154607,  0.00059281, -0.00328708,\n",
       "       -0.00039325,  0.00345769,  0.00281165,  0.00245763,  0.00287415,\n",
       "        0.00390994,  0.0026428 , -0.00363835,  0.00486249,  0.00271834,\n",
       "       -0.0029558 , -0.00302681,  0.00171569, -0.00370322,  0.00280445,\n",
       "       -0.00195872,  0.00109434, -0.00298335, -0.00317063,  0.00226641,\n",
       "       -0.00231398, -0.00124258,  0.00483412, -0.00222271,  0.00360735,\n",
       "       -0.00209982, -0.00172873,  0.00170555,  0.00119465, -0.00352196,\n",
       "        0.00100923,  0.00189963, -0.00036752,  0.0002633 , -0.00154922,\n",
       "       -0.0033674 , -0.00250891, -0.00311234, -0.00454363, -0.00083514,\n",
       "        0.00234391,  0.00042497, -0.00378361,  0.00278021, -0.00389331,\n",
       "       -0.00126199,  0.00341026, -0.00482291,  0.00279927,  0.00133561,\n",
       "        0.00473418,  0.0045723 , -0.00220584,  0.00471628,  0.0020957 ,\n",
       "       -0.00271961,  0.00060845,  0.00433557, -0.00419068, -0.00404307,\n",
       "        0.00190609,  0.00174855,  0.00423873,  0.00327029, -0.00373958,\n",
       "        0.00432177,  0.00208679,  0.00021142, -0.00326645, -0.00194551,\n",
       "        0.00491633, -0.00228889, -0.00028442,  0.0012298 ,  0.00472606,\n",
       "       -0.00321384, -0.00091972,  0.00286479,  0.00383057,  0.00128752,\n",
       "        0.0024482 ,  0.00144294, -0.00049588, -0.00033288, -0.00287565,\n",
       "        0.00468948,  0.00439164,  0.00372568, -0.0047773 , -0.0019225 ],\n",
       "      dtype=float32)"
      ]
     },
     "execution_count": 95,
     "metadata": {},
     "output_type": "execute_result"
    }
   ],
   "source": [
    "vector"
   ]
  },
  {
   "cell_type": "markdown",
   "metadata": {},
   "source": [
    "#### Getting Similar Words To Any Word"
   ]
  },
  {
   "cell_type": "code",
   "execution_count": 96,
   "metadata": {},
   "outputs": [],
   "source": [
    "similar_words = model.wv.most_similar('programming')"
   ]
  },
  {
   "cell_type": "code",
   "execution_count": 98,
   "metadata": {},
   "outputs": [
    {
     "data": {
      "text/plain": [
       "[('resource', 0.22052551805973053),\n",
       " ('often', 0.20188382267951965),\n",
       " (\"'s\", 0.1920350044965744),\n",
       " ('discontinued', 0.16033625602722168),\n",
       " ('completely', 0.14215143024921417),\n",
       " ('maintains', 0.14009740948677063),\n",
       " ('emphasizes', 0.1390928477048874),\n",
       " ('reference', 0.1388399749994278),\n",
       " ('procedural', 0.13238975405693054),\n",
       " ('organization', 0.13017770648002625)]"
      ]
     },
     "execution_count": 98,
     "metadata": {},
     "output_type": "execute_result"
    }
   ],
   "source": [
    "similar_words # words which are near the word 'programming' in the vecotor space"
   ]
  },
  {
   "cell_type": "code",
   "execution_count": null,
   "metadata": {},
   "outputs": [],
   "source": []
  }
 ],
 "metadata": {
  "kernelspec": {
   "display_name": "Python 3",
   "language": "python",
   "name": "python3"
  },
  "language_info": {
   "codemirror_mode": {
    "name": "ipython",
    "version": 3
   },
   "file_extension": ".py",
   "mimetype": "text/x-python",
   "name": "python",
   "nbconvert_exporter": "python",
   "pygments_lexer": "ipython3",
   "version": "3.7.6"
  }
 },
 "nbformat": 4,
 "nbformat_minor": 4
}
