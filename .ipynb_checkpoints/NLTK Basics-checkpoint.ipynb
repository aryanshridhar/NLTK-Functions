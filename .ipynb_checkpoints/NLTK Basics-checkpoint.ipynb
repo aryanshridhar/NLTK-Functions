{
 "cells": [
  {
   "cell_type": "code",
   "execution_count": 75,
   "metadata": {},
   "outputs": [],
   "source": [
    "import nltk"
   ]
  },
  {
   "cell_type": "code",
   "execution_count": 76,
   "metadata": {},
   "outputs": [
    {
     "name": "stdout",
     "output_type": "stream",
     "text": [
      "showing info https://raw.githubusercontent.com/nltk/nltk_data/gh-pages/index.xml\n"
     ]
    },
    {
     "data": {
      "text/plain": [
       "True"
      ]
     },
     "execution_count": 76,
     "metadata": {},
     "output_type": "execute_result"
    }
   ],
   "source": [
    "nltk.download() # If loading nltk for very first time to download packages"
   ]
  },
  {
   "cell_type": "code",
   "execution_count": 77,
   "metadata": {},
   "outputs": [],
   "source": [
    "paragraph = \"\"\"Python is an interpreted, high-level, general-purpose programming language. \n",
    "Created by Guido van Rossum and first released in 1991, Python's design philosophy emphasizes code readability \n",
    "with its notable use of significant whitespace. Its language constructs and object-oriented approach aim to \n",
    "help programmers write clear, logical code for small and large-scale projects\n",
    "Python is dynamically typed and garbage-collected. It supports multiple programming paradigms, \n",
    "including structured (particularly, procedural), object-oriented, and functional programming. \n",
    "Python is often described as a \"batteries included\" language due to its comprehensive standard library\n",
    "Python was conceived in the late 1980s as a successor to the ABC language. Python 2.0, released in 2000, \n",
    "introduced features like list comprehensions and a garbage collection system capable of \n",
    "collecting reference cycles. Python 3.0, released in 2008, was a major revision of the \n",
    "language that is not completely backward-compatible, and much Python 2 code does not run unmodified on Python 3.\n",
    "The Python 2 language was officially discontinued in 2020 (first planned for 2015), and \"Python 2.7.18 is the \n",
    "last Python 2.7 release and therefore the last Python 2 release.\"No more security patches or other \n",
    "improvements will be released for it.With Python 2's end-of-life, only Python and later are supported.\n",
    "Python interpreters are available for many operating systems. A global community of programmers develops and \n",
    "maintains CPython, an open source[34] reference implementation. A non-profit organization, the Python Software \n",
    "Foundation, manages and directs resources for Python and CPython development.\"\"\""
   ]
  },
  {
   "cell_type": "code",
   "execution_count": 84,
   "metadata": {},
   "outputs": [
    {
     "data": {
      "text/plain": [
       "230"
      ]
     },
     "execution_count": 84,
     "metadata": {},
     "output_type": "execute_result"
    }
   ],
   "source": [
    "len(paragraph.split(' '))"
   ]
  },
  {
   "cell_type": "markdown",
   "metadata": {},
   "source": [
    "## Tokenizing Sentences"
   ]
  },
  {
   "cell_type": "code",
   "execution_count": 78,
   "metadata": {},
   "outputs": [],
   "source": [
    "sentences = nltk.sent_tokenize(paragraph)"
   ]
  },
  {
   "cell_type": "code",
   "execution_count": 79,
   "metadata": {},
   "outputs": [
    {
     "data": {
      "text/plain": [
       "['Python is an interpreted, high-level, general-purpose programming language.',\n",
       " \"Created by Guido van Rossum and first released in 1991, Python's design philosophy emphasizes code readability \\nwith its notable use of significant whitespace.\",\n",
       " 'Its language constructs and object-oriented approach aim to \\nhelp programmers write clear, logical code for small and large-scale projects\\nPython is dynamically typed and garbage-collected.',\n",
       " 'It supports multiple programming paradigms, \\nincluding structured (particularly, procedural), object-oriented, and functional programming.',\n",
       " 'Python is often described as a \"batteries included\" language due to its comprehensive standard library\\nPython was conceived in the late 1980s as a successor to the ABC language.',\n",
       " 'Python 2.0, released in 2000, \\nintroduced features like list comprehensions and a garbage collection system capable of \\ncollecting reference cycles.',\n",
       " 'Python 3.0, released in 2008, was a major revision of the \\nlanguage that is not completely backward-compatible, and much Python 2 code does not run unmodified on Python 3.',\n",
       " 'The Python 2 language was officially discontinued in 2020 (first planned for 2015), and \"Python 2.7.18 is the \\nlast Python 2.7 release and therefore the last Python 2 release.',\n",
       " '\"No more security patches or other \\nimprovements will be released for it.With Python 2\\'s end-of-life, only Python and later are supported.',\n",
       " 'Python interpreters are available for many operating systems.',\n",
       " 'A global community of programmers develops and \\nmaintains CPython, an open source[34] reference implementation.',\n",
       " 'A non-profit organization, the Python Software \\nFoundation, manages and directs resources for Python and CPython development.']"
      ]
     },
     "execution_count": 79,
     "metadata": {},
     "output_type": "execute_result"
    }
   ],
   "source": [
    "sentences"
   ]
  },
  {
   "cell_type": "code",
   "execution_count": 80,
   "metadata": {},
   "outputs": [
    {
     "data": {
      "text/plain": [
       "12"
      ]
     },
     "execution_count": 80,
     "metadata": {},
     "output_type": "execute_result"
    }
   ],
   "source": [
    "len(sentences)"
   ]
  },
  {
   "cell_type": "markdown",
   "metadata": {},
   "source": [
    "## Tokenizing Words"
   ]
  },
  {
   "cell_type": "code",
   "execution_count": 81,
   "metadata": {},
   "outputs": [],
   "source": [
    "words = nltk.word_tokenize(paragraph)"
   ]
  },
  {
   "cell_type": "code",
   "execution_count": 82,
   "metadata": {},
   "outputs": [
    {
     "data": {
      "text/plain": [
       "['Python',\n",
       " 'is',\n",
       " 'an',\n",
       " 'interpreted',\n",
       " ',',\n",
       " 'high-level',\n",
       " ',',\n",
       " 'general-purpose',\n",
       " 'programming',\n",
       " 'language',\n",
       " '.',\n",
       " 'Created',\n",
       " 'by',\n",
       " 'Guido',\n",
       " 'van',\n",
       " 'Rossum',\n",
       " 'and',\n",
       " 'first',\n",
       " 'released',\n",
       " 'in',\n",
       " '1991',\n",
       " ',',\n",
       " 'Python',\n",
       " \"'s\",\n",
       " 'design',\n",
       " 'philosophy',\n",
       " 'emphasizes',\n",
       " 'code',\n",
       " 'readability',\n",
       " 'with',\n",
       " 'its',\n",
       " 'notable',\n",
       " 'use',\n",
       " 'of',\n",
       " 'significant',\n",
       " 'whitespace',\n",
       " '.',\n",
       " 'Its',\n",
       " 'language',\n",
       " 'constructs',\n",
       " 'and',\n",
       " 'object-oriented',\n",
       " 'approach',\n",
       " 'aim',\n",
       " 'to',\n",
       " 'help',\n",
       " 'programmers',\n",
       " 'write',\n",
       " 'clear',\n",
       " ',',\n",
       " 'logical',\n",
       " 'code',\n",
       " 'for',\n",
       " 'small',\n",
       " 'and',\n",
       " 'large-scale',\n",
       " 'projects',\n",
       " 'Python',\n",
       " 'is',\n",
       " 'dynamically',\n",
       " 'typed',\n",
       " 'and',\n",
       " 'garbage-collected',\n",
       " '.',\n",
       " 'It',\n",
       " 'supports',\n",
       " 'multiple',\n",
       " 'programming',\n",
       " 'paradigms',\n",
       " ',',\n",
       " 'including',\n",
       " 'structured',\n",
       " '(',\n",
       " 'particularly',\n",
       " ',',\n",
       " 'procedural',\n",
       " ')',\n",
       " ',',\n",
       " 'object-oriented',\n",
       " ',',\n",
       " 'and',\n",
       " 'functional',\n",
       " 'programming',\n",
       " '.',\n",
       " 'Python',\n",
       " 'is',\n",
       " 'often',\n",
       " 'described',\n",
       " 'as',\n",
       " 'a',\n",
       " '``',\n",
       " 'batteries',\n",
       " 'included',\n",
       " \"''\",\n",
       " 'language',\n",
       " 'due',\n",
       " 'to',\n",
       " 'its',\n",
       " 'comprehensive',\n",
       " 'standard',\n",
       " 'library',\n",
       " 'Python',\n",
       " 'was',\n",
       " 'conceived',\n",
       " 'in',\n",
       " 'the',\n",
       " 'late',\n",
       " '1980s',\n",
       " 'as',\n",
       " 'a',\n",
       " 'successor',\n",
       " 'to',\n",
       " 'the',\n",
       " 'ABC',\n",
       " 'language',\n",
       " '.',\n",
       " 'Python',\n",
       " '2.0',\n",
       " ',',\n",
       " 'released',\n",
       " 'in',\n",
       " '2000',\n",
       " ',',\n",
       " 'introduced',\n",
       " 'features',\n",
       " 'like',\n",
       " 'list',\n",
       " 'comprehensions',\n",
       " 'and',\n",
       " 'a',\n",
       " 'garbage',\n",
       " 'collection',\n",
       " 'system',\n",
       " 'capable',\n",
       " 'of',\n",
       " 'collecting',\n",
       " 'reference',\n",
       " 'cycles',\n",
       " '.',\n",
       " 'Python',\n",
       " '3.0',\n",
       " ',',\n",
       " 'released',\n",
       " 'in',\n",
       " '2008',\n",
       " ',',\n",
       " 'was',\n",
       " 'a',\n",
       " 'major',\n",
       " 'revision',\n",
       " 'of',\n",
       " 'the',\n",
       " 'language',\n",
       " 'that',\n",
       " 'is',\n",
       " 'not',\n",
       " 'completely',\n",
       " 'backward-compatible',\n",
       " ',',\n",
       " 'and',\n",
       " 'much',\n",
       " 'Python',\n",
       " '2',\n",
       " 'code',\n",
       " 'does',\n",
       " 'not',\n",
       " 'run',\n",
       " 'unmodified',\n",
       " 'on',\n",
       " 'Python',\n",
       " '3',\n",
       " '.',\n",
       " 'The',\n",
       " 'Python',\n",
       " '2',\n",
       " 'language',\n",
       " 'was',\n",
       " 'officially',\n",
       " 'discontinued',\n",
       " 'in',\n",
       " '2020',\n",
       " '(',\n",
       " 'first',\n",
       " 'planned',\n",
       " 'for',\n",
       " '2015',\n",
       " ')',\n",
       " ',',\n",
       " 'and',\n",
       " '``',\n",
       " 'Python',\n",
       " '2.7.18',\n",
       " 'is',\n",
       " 'the',\n",
       " 'last',\n",
       " 'Python',\n",
       " '2.7',\n",
       " 'release',\n",
       " 'and',\n",
       " 'therefore',\n",
       " 'the',\n",
       " 'last',\n",
       " 'Python',\n",
       " '2',\n",
       " 'release',\n",
       " '.',\n",
       " '``',\n",
       " 'No',\n",
       " 'more',\n",
       " 'security',\n",
       " 'patches',\n",
       " 'or',\n",
       " 'other',\n",
       " 'improvements',\n",
       " 'will',\n",
       " 'be',\n",
       " 'released',\n",
       " 'for',\n",
       " 'it.With',\n",
       " 'Python',\n",
       " '2',\n",
       " \"'s\",\n",
       " 'end-of-life',\n",
       " ',',\n",
       " 'only',\n",
       " 'Python',\n",
       " 'and',\n",
       " 'later',\n",
       " 'are',\n",
       " 'supported',\n",
       " '.',\n",
       " 'Python',\n",
       " 'interpreters',\n",
       " 'are',\n",
       " 'available',\n",
       " 'for',\n",
       " 'many',\n",
       " 'operating',\n",
       " 'systems',\n",
       " '.',\n",
       " 'A',\n",
       " 'global',\n",
       " 'community',\n",
       " 'of',\n",
       " 'programmers',\n",
       " 'develops',\n",
       " 'and',\n",
       " 'maintains',\n",
       " 'CPython',\n",
       " ',',\n",
       " 'an',\n",
       " 'open',\n",
       " 'source',\n",
       " '[',\n",
       " '34',\n",
       " ']',\n",
       " 'reference',\n",
       " 'implementation',\n",
       " '.',\n",
       " 'A',\n",
       " 'non-profit',\n",
       " 'organization',\n",
       " ',',\n",
       " 'the',\n",
       " 'Python',\n",
       " 'Software',\n",
       " 'Foundation',\n",
       " ',',\n",
       " 'manages',\n",
       " 'and',\n",
       " 'directs',\n",
       " 'resources',\n",
       " 'for',\n",
       " 'Python',\n",
       " 'and',\n",
       " 'CPython',\n",
       " 'development',\n",
       " '.']"
      ]
     },
     "execution_count": 82,
     "metadata": {},
     "output_type": "execute_result"
    }
   ],
   "source": [
    "words"
   ]
  },
  {
   "cell_type": "code",
   "execution_count": 83,
   "metadata": {},
   "outputs": [
    {
     "data": {
      "text/plain": [
       "278"
      ]
     },
     "execution_count": 83,
     "metadata": {},
     "output_type": "execute_result"
    }
   ],
   "source": [
    "len(words)"
   ]
  },
  {
   "cell_type": "code",
   "execution_count": null,
   "metadata": {},
   "outputs": [],
   "source": []
  }
 ],
 "metadata": {
  "kernelspec": {
   "display_name": "Python 3",
   "language": "python",
   "name": "python3"
  },
  "language_info": {
   "codemirror_mode": {
    "name": "ipython",
    "version": 3
   },
   "file_extension": ".py",
   "mimetype": "text/x-python",
   "name": "python",
   "nbconvert_exporter": "python",
   "pygments_lexer": "ipython3",
   "version": "3.7.6"
  }
 },
 "nbformat": 4,
 "nbformat_minor": 4
}
