{
 "cells": [
  {
   "cell_type": "code",
   "execution_count": 1,
   "metadata": {},
   "outputs": [],
   "source": [
    "import nltk"
   ]
  },
  {
   "cell_type": "code",
   "execution_count": 2,
   "metadata": {},
   "outputs": [],
   "source": [
    "paragraph = \"\"\"Python is an interpreted, high-level, general-purpose programming language. \n",
    "Created by Guido van Rossum and first released in 1991, Python's design philosophy emphasizes code readability \n",
    "with its notable use of significant whitespace. Its language constructs and object-oriented approach aim to \n",
    "help programmers write clear, logical code for small and large-scale projects\n",
    "Python is dynamically typed and garbage-collected. It supports multiple programming paradigms, \n",
    "including structured (particularly, procedural), object-oriented, and functional programming. \n",
    "Python is often described as a \"batteries included\" language due to its comprehensive standard library\n",
    "Python was conceived in the late 1980s as a successor to the ABC language. Python 2.0, released in 2000, \n",
    "introduced features like list comprehensions and a garbage collection system capable of \n",
    "collecting reference cycles. Python 3.0, released in 2008, was a major revision of the \n",
    "language that is not completely backward-compatible, and much Python 2 code does not run unmodified on Python 3.\n",
    "The Python 2 language was officially discontinued in 2020 (first planned for 2015), and \"Python 2.7.18 is the \n",
    "last Python 2.7 release and therefore the last Python 2 release.\"No more security patches or other \n",
    "improvements will be released for it.With Python 2's end-of-life, only Python and later are supported.\n",
    "Python interpreters are available for many operating systems. A global community of programmers develops and \n",
    "maintains CPython, an open source[34] reference implementation. A non-profit organization, the Python Software \n",
    "Foundation, manages and directs resources for Python and CPython development.\"\"\""
   ]
  },
  {
   "cell_type": "markdown",
   "metadata": {},
   "source": [
    "## Removing Stop Words"
   ]
  },
  {
   "cell_type": "code",
   "execution_count": 4,
   "metadata": {},
   "outputs": [],
   "source": [
    "from nltk.corpus import stopwords"
   ]
  },
  {
   "cell_type": "code",
   "execution_count": 5,
   "metadata": {},
   "outputs": [
    {
     "data": {
      "text/plain": [
       "['i',\n",
       " 'me',\n",
       " 'my',\n",
       " 'myself',\n",
       " 'we',\n",
       " 'our',\n",
       " 'ours',\n",
       " 'ourselves',\n",
       " 'you',\n",
       " \"you're\",\n",
       " \"you've\",\n",
       " \"you'll\",\n",
       " \"you'd\",\n",
       " 'your',\n",
       " 'yours',\n",
       " 'yourself',\n",
       " 'yourselves',\n",
       " 'he',\n",
       " 'him',\n",
       " 'his',\n",
       " 'himself',\n",
       " 'she',\n",
       " \"she's\",\n",
       " 'her',\n",
       " 'hers',\n",
       " 'herself',\n",
       " 'it',\n",
       " \"it's\",\n",
       " 'its',\n",
       " 'itself',\n",
       " 'they',\n",
       " 'them',\n",
       " 'their',\n",
       " 'theirs',\n",
       " 'themselves',\n",
       " 'what',\n",
       " 'which',\n",
       " 'who',\n",
       " 'whom',\n",
       " 'this',\n",
       " 'that',\n",
       " \"that'll\",\n",
       " 'these',\n",
       " 'those',\n",
       " 'am',\n",
       " 'is',\n",
       " 'are',\n",
       " 'was',\n",
       " 'were',\n",
       " 'be',\n",
       " 'been',\n",
       " 'being',\n",
       " 'have',\n",
       " 'has',\n",
       " 'had',\n",
       " 'having',\n",
       " 'do',\n",
       " 'does',\n",
       " 'did',\n",
       " 'doing',\n",
       " 'a',\n",
       " 'an',\n",
       " 'the',\n",
       " 'and',\n",
       " 'but',\n",
       " 'if',\n",
       " 'or',\n",
       " 'because',\n",
       " 'as',\n",
       " 'until',\n",
       " 'while',\n",
       " 'of',\n",
       " 'at',\n",
       " 'by',\n",
       " 'for',\n",
       " 'with',\n",
       " 'about',\n",
       " 'against',\n",
       " 'between',\n",
       " 'into',\n",
       " 'through',\n",
       " 'during',\n",
       " 'before',\n",
       " 'after',\n",
       " 'above',\n",
       " 'below',\n",
       " 'to',\n",
       " 'from',\n",
       " 'up',\n",
       " 'down',\n",
       " 'in',\n",
       " 'out',\n",
       " 'on',\n",
       " 'off',\n",
       " 'over',\n",
       " 'under',\n",
       " 'again',\n",
       " 'further',\n",
       " 'then',\n",
       " 'once',\n",
       " 'here',\n",
       " 'there',\n",
       " 'when',\n",
       " 'where',\n",
       " 'why',\n",
       " 'how',\n",
       " 'all',\n",
       " 'any',\n",
       " 'both',\n",
       " 'each',\n",
       " 'few',\n",
       " 'more',\n",
       " 'most',\n",
       " 'other',\n",
       " 'some',\n",
       " 'such',\n",
       " 'no',\n",
       " 'nor',\n",
       " 'not',\n",
       " 'only',\n",
       " 'own',\n",
       " 'same',\n",
       " 'so',\n",
       " 'than',\n",
       " 'too',\n",
       " 'very',\n",
       " 's',\n",
       " 't',\n",
       " 'can',\n",
       " 'will',\n",
       " 'just',\n",
       " 'don',\n",
       " \"don't\",\n",
       " 'should',\n",
       " \"should've\",\n",
       " 'now',\n",
       " 'd',\n",
       " 'll',\n",
       " 'm',\n",
       " 'o',\n",
       " 're',\n",
       " 've',\n",
       " 'y',\n",
       " 'ain',\n",
       " 'aren',\n",
       " \"aren't\",\n",
       " 'couldn',\n",
       " \"couldn't\",\n",
       " 'didn',\n",
       " \"didn't\",\n",
       " 'doesn',\n",
       " \"doesn't\",\n",
       " 'hadn',\n",
       " \"hadn't\",\n",
       " 'hasn',\n",
       " \"hasn't\",\n",
       " 'haven',\n",
       " \"haven't\",\n",
       " 'isn',\n",
       " \"isn't\",\n",
       " 'ma',\n",
       " 'mightn',\n",
       " \"mightn't\",\n",
       " 'mustn',\n",
       " \"mustn't\",\n",
       " 'needn',\n",
       " \"needn't\",\n",
       " 'shan',\n",
       " \"shan't\",\n",
       " 'shouldn',\n",
       " \"shouldn't\",\n",
       " 'wasn',\n",
       " \"wasn't\",\n",
       " 'weren',\n",
       " \"weren't\",\n",
       " 'won',\n",
       " \"won't\",\n",
       " 'wouldn',\n",
       " \"wouldn't\"]"
      ]
     },
     "execution_count": 5,
     "metadata": {},
     "output_type": "execute_result"
    }
   ],
   "source": [
    "stopwords.words('english')"
   ]
  },
  {
   "cell_type": "code",
   "execution_count": 6,
   "metadata": {},
   "outputs": [],
   "source": [
    "new_paragraph = []\n",
    "for i in nltk.word_tokenize(paragraph):\n",
    "    if not i in stopwords.words('english'):\n",
    "        new_paragraph.append(i)\n"
   ]
  },
  {
   "cell_type": "code",
   "execution_count": 7,
   "metadata": {},
   "outputs": [],
   "source": [
    "new_paragraph = ' '.join(new_paragraph)"
   ]
  },
  {
   "cell_type": "code",
   "execution_count": 8,
   "metadata": {},
   "outputs": [
    {
     "data": {
      "text/plain": [
       "\"Python interpreted , high-level , general-purpose programming language . Created Guido van Rossum first released 1991 , Python 's design philosophy emphasizes code readability notable use significant whitespace . Its language constructs object-oriented approach aim help programmers write clear , logical code small large-scale projects Python dynamically typed garbage-collected . It supports multiple programming paradigms , including structured ( particularly , procedural ) , object-oriented , functional programming . Python often described `` batteries included '' language due comprehensive standard library Python conceived late 1980s successor ABC language . Python 2.0 , released 2000 , introduced features like list comprehensions garbage collection system capable collecting reference cycles . Python 3.0 , released 2008 , major revision language completely backward-compatible , much Python 2 code run unmodified Python 3 . The Python 2 language officially discontinued 2020 ( first planned 2015 ) , `` Python 2.7.18 last Python 2.7 release therefore last Python 2 release . `` No security patches improvements released it.With Python 2 's end-of-life , Python later supported . Python interpreters available many operating systems . A global community programmers develops maintains CPython , open source [ 34 ] reference implementation . A non-profit organization , Python Software Foundation , manages directs resources Python CPython development .\""
      ]
     },
     "execution_count": 8,
     "metadata": {},
     "output_type": "execute_result"
    }
   ],
   "source": [
    "new_paragraph"
   ]
  },
  {
   "cell_type": "markdown",
   "metadata": {},
   "source": [
    "## Lemmatization"
   ]
  },
  {
   "cell_type": "markdown",
   "metadata": {},
   "source": [
    "Stemming is basically removing the suffix from a word and reduce it to its root word. For example: “Flying” is a word and its suffix is “ing”, if we remove “ing” from “Flying” then we will get base word or root word which is “Fly”.\n",
    "\n",
    "Remmoving these suffix won't change the learning algorithm of model\n",
    "The new word is always a Dictionary word unlike in Stemming where it may happen"
   ]
  },
  {
   "cell_type": "code",
   "execution_count": 10,
   "metadata": {},
   "outputs": [],
   "source": [
    "from nltk.stem import WordNetLemmatizer"
   ]
  },
  {
   "cell_type": "code",
   "execution_count": 11,
   "metadata": {},
   "outputs": [],
   "source": [
    "lemmatizer = WordNetLemmatizer()"
   ]
  },
  {
   "cell_type": "code",
   "execution_count": 12,
   "metadata": {},
   "outputs": [
    {
     "data": {
      "text/plain": [
       "'history'"
      ]
     },
     "execution_count": 12,
     "metadata": {},
     "output_type": "execute_result"
    }
   ],
   "source": [
    "lemmatizer.lemmatize('history')"
   ]
  },
  {
   "cell_type": "code",
   "execution_count": 13,
   "metadata": {},
   "outputs": [
    {
     "data": {
      "text/plain": [
       "'flying'"
      ]
     },
     "execution_count": 13,
     "metadata": {},
     "output_type": "execute_result"
    }
   ],
   "source": [
    "lemmatizer.lemmatize('flying')"
   ]
  },
  {
   "cell_type": "markdown",
   "metadata": {},
   "source": [
    "## Lemmatizing The Above Paragraph"
   ]
  },
  {
   "cell_type": "code",
   "execution_count": 15,
   "metadata": {},
   "outputs": [],
   "source": [
    "stem_words = []\n",
    "for i in nltk.word_tokenize(new_paragraph):\n",
    "    stem_words.append(lemmatizer.lemmatize(i))"
   ]
  },
  {
   "cell_type": "code",
   "execution_count": 17,
   "metadata": {},
   "outputs": [
    {
     "name": "stdout",
     "output_type": "stream",
     "text": [
      "Python interpreted , high-level , general-purpose programming language . Created Guido van Rossum first released 1991 , Python 's design philosophy emphasizes code readability notable use significant whitespace . Its language construct object-oriented approach aim help programmer write clear , logical code small large-scale project Python dynamically typed garbage-collected . It support multiple programming paradigm , including structured ( particularly , procedural ) , object-oriented , functional programming . Python often described `` battery included `` language due comprehensive standard library Python conceived late 1980s successor ABC language . Python 2.0 , released 2000 , introduced feature like list comprehension garbage collection system capable collecting reference cycle . Python 3.0 , released 2008 , major revision language completely backward-compatible , much Python 2 code run unmodified Python 3 . The Python 2 language officially discontinued 2020 ( first planned 2015 ) , `` Python 2.7.18 last Python 2.7 release therefore last Python 2 release . `` No security patch improvement released it.With Python 2 's end-of-life , Python later supported . Python interpreter available many operating system . A global community programmer develops maintains CPython , open source [ 34 ] reference implementation . A non-profit organization , Python Software Foundation , manages directs resource Python CPython development .\n"
     ]
    }
   ],
   "source": [
    "print(' '.join(stem_words)) # All words are dictionary words"
   ]
  },
  {
   "cell_type": "code",
   "execution_count": null,
   "metadata": {},
   "outputs": [],
   "source": []
  }
 ],
 "metadata": {
  "kernelspec": {
   "display_name": "Python 3",
   "language": "python",
   "name": "python3"
  },
  "language_info": {
   "codemirror_mode": {
    "name": "ipython",
    "version": 3
   },
   "file_extension": ".py",
   "mimetype": "text/x-python",
   "name": "python",
   "nbconvert_exporter": "python",
   "pygments_lexer": "ipython3",
   "version": "3.7.6"
  }
 },
 "nbformat": 4,
 "nbformat_minor": 4
}
